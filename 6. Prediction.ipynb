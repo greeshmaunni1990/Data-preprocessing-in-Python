{
 "cells": [
  {
   "cell_type": "code",
   "execution_count": 1,
   "metadata": {},
   "outputs": [],
   "source": [
    "import pandas as pd"
   ]
  },
  {
   "cell_type": "code",
   "execution_count": 2,
   "metadata": {},
   "outputs": [
    {
     "data": {
      "text/html": [
       "<div>\n",
       "<style scoped>\n",
       "    .dataframe tbody tr th:only-of-type {\n",
       "        vertical-align: middle;\n",
       "    }\n",
       "\n",
       "    .dataframe tbody tr th {\n",
       "        vertical-align: top;\n",
       "    }\n",
       "\n",
       "    .dataframe thead th {\n",
       "        text-align: right;\n",
       "    }\n",
       "</style>\n",
       "<table border=\"1\" class=\"dataframe\">\n",
       "  <thead>\n",
       "    <tr style=\"text-align: right;\">\n",
       "      <th></th>\n",
       "      <th>P_Football_Performance</th>\n",
       "      <th>SMAn2</th>\n",
       "      <th>N_Applications</th>\n",
       "    </tr>\n",
       "    <tr>\n",
       "      <th>Year</th>\n",
       "      <th></th>\n",
       "      <th></th>\n",
       "      <th></th>\n",
       "    </tr>\n",
       "  </thead>\n",
       "  <tbody>\n",
       "    <tr>\n",
       "      <th>2006</th>\n",
       "      <td>0.273</td>\n",
       "      <td>5778.0</td>\n",
       "      <td>5778</td>\n",
       "    </tr>\n",
       "    <tr>\n",
       "      <th>2007</th>\n",
       "      <td>0.273</td>\n",
       "      <td>5778.0</td>\n",
       "      <td>5140</td>\n",
       "    </tr>\n",
       "    <tr>\n",
       "      <th>2008</th>\n",
       "      <td>0.250</td>\n",
       "      <td>5459.0</td>\n",
       "      <td>6141</td>\n",
       "    </tr>\n",
       "    <tr>\n",
       "      <th>2009</th>\n",
       "      <td>0.615</td>\n",
       "      <td>5640.5</td>\n",
       "      <td>7429</td>\n",
       "    </tr>\n",
       "    <tr>\n",
       "      <th>2010</th>\n",
       "      <td>0.333</td>\n",
       "      <td>6785.0</td>\n",
       "      <td>7839</td>\n",
       "    </tr>\n",
       "  </tbody>\n",
       "</table>\n",
       "</div>"
      ],
      "text/plain": [
       "      P_Football_Performance   SMAn2  N_Applications\n",
       "Year                                                \n",
       "2006                   0.273  5778.0            5778\n",
       "2007                   0.273  5778.0            5140\n",
       "2008                   0.250  5459.0            6141\n",
       "2009                   0.615  5640.5            7429\n",
       "2010                   0.333  6785.0            7839"
      ]
     },
     "execution_count": 2,
     "metadata": {},
     "output_type": "execute_result"
    }
   ],
   "source": [
    "msu_df = pd.read_csv('MSU applications.csv')\n",
    "msu_df.set_index('Year', drop=True, inplace= True)\n",
    "msu_df.head()"
   ]
  },
  {
   "cell_type": "code",
   "execution_count": 5,
   "metadata": {},
   "outputs": [
    {
     "name": "stdout",
     "output_type": "stream",
     "text": [
      "Collecting package metadata (repodata.json): done\n",
      "Solving environment: done\n",
      "\n",
      "\n",
      "==> WARNING: A newer version of conda exists. <==\n",
      "  current version: 4.8.4\n",
      "  latest version: 23.5.0\n",
      "\n",
      "Please update conda by running\n",
      "\n",
      "    $ conda update -n base -c defaults conda\n",
      "\n",
      "\n",
      "\n",
      "## Package Plan ##\n",
      "\n",
      "  environment location: /home/aifi/anaconda3\n",
      "\n",
      "  added / updated specs:\n",
      "    - scikit-learn\n",
      "\n",
      "\n",
      "The following packages will be downloaded:\n",
      "\n",
      "    package                    |            build\n",
      "    ---------------------------|-----------------\n",
      "    libblas-3.8.0              |           21_mkl          11 KB  conda-forge\n",
      "    libcblas-3.8.0             |           21_mkl          11 KB  conda-forge\n",
      "    scikit-learn-0.20.3        |   py27ha8026db_1         5.8 MB  conda-forge\n",
      "    ------------------------------------------------------------\n",
      "                                           Total:         5.8 MB\n",
      "\n",
      "The following NEW packages will be INSTALLED:\n",
      "\n",
      "  libblas            conda-forge/linux-64::libblas-3.8.0-21_mkl\n",
      "  libcblas           conda-forge/linux-64::libcblas-3.8.0-21_mkl\n",
      "\n",
      "The following packages will be UPDATED:\n",
      "\n",
      "  scikit-learn       pkgs/main::scikit-learn-0.20.3-py27hd~ --> conda-forge::scikit-learn-0.20.3-py27ha8026db_1\n",
      "\n",
      "\n",
      "\n",
      "Downloading and Extracting Packages\n",
      "libcblas-3.8.0       | 11 KB     | ##################################### | 100% \n",
      "scikit-learn-0.20.3  | 5.8 MB    | ##################################### | 100% \n",
      "libblas-3.8.0        | 11 KB     | ##################################### | 100% \n",
      "Preparing transaction: done\n",
      "Verifying transaction: done\n",
      "Executing transaction: done\n"
     ]
    }
   ],
   "source": [
    "!conda install -y scikit-learn"
   ]
  },
  {
   "cell_type": "markdown",
   "metadata": {},
   "source": [
    "#### Linear Regression"
   ]
  },
  {
   "cell_type": "code",
   "execution_count": 6,
   "metadata": {},
   "outputs": [],
   "source": [
    "from sklearn.linear_model import LinearRegression"
   ]
  },
  {
   "cell_type": "code",
   "execution_count": 14,
   "metadata": {},
   "outputs": [
    {
     "data": {
      "text/plain": [
       "LinearRegression(copy_X=True, fit_intercept=True, n_jobs=None,\n",
       "         normalize=False)"
      ]
     },
     "execution_count": 14,
     "metadata": {},
     "output_type": "execute_result"
    }
   ],
   "source": [
    "X = ['P_Football_Performance', 'SMAn2']\n",
    "Y = 'N_Applications'\n",
    "\n",
    "data_X = msu_df[X]\n",
    "data_y = msu_df[Y]\n",
    "\n",
    "# create a model\n",
    "linear_regression = LinearRegression()\n",
    "linear_regression.fit(data_X, data_y)"
   ]
  },
  {
   "cell_type": "code",
   "execution_count": 15,
   "metadata": {},
   "outputs": [
    {
     "name": "stdout",
     "output_type": "stream",
     "text": [
      "('intercept', -890.7106225983425)\n",
      "('coefficient', array([5.54496193e+03, 9.07031768e-01]))\n"
     ]
    }
   ],
   "source": [
    "print('intercept', linear_regression.intercept_)\n",
    "print('coefficient', linear_regression.coef_)\n",
    "coef_names = ['b1', 'b2']"
   ]
  },
  {
   "cell_type": "code",
   "execution_count": 16,
   "metadata": {},
   "outputs": [
    {
     "name": "stdout",
     "output_type": "stream",
     "text": [
      "   Coefficien value Coefficient names               Predictor\n",
      "0       5544.961933                b1  P_Football_Performance\n",
      "1          0.907032                b2                   SMAn2\n"
     ]
    }
   ],
   "source": [
    "print(pd.DataFrame({'Predictor': data_X.columns,\n",
    "                   'Coefficient names': coef_names,\n",
    "                   'Coefficien value': linear_regression.coef_}))"
   ]
  },
  {
   "cell_type": "code",
   "execution_count": 18,
   "metadata": {},
   "outputs": [
    {
     "data": {
      "text/html": [
       "<div>\n",
       "<style scoped>\n",
       "    .dataframe tbody tr th:only-of-type {\n",
       "        vertical-align: middle;\n",
       "    }\n",
       "\n",
       "    .dataframe tbody tr th {\n",
       "        vertical-align: top;\n",
       "    }\n",
       "\n",
       "    .dataframe thead th {\n",
       "        text-align: right;\n",
       "    }\n",
       "</style>\n",
       "<table border=\"1\" class=\"dataframe\">\n",
       "  <thead>\n",
       "    <tr style=\"text-align: right;\">\n",
       "      <th></th>\n",
       "      <th>P_Football_Performance</th>\n",
       "      <th>SMAn2</th>\n",
       "    </tr>\n",
       "  </thead>\n",
       "  <tbody>\n",
       "    <tr>\n",
       "      <th>2022</th>\n",
       "      <td>0.364</td>\n",
       "      <td>17198</td>\n",
       "    </tr>\n",
       "  </tbody>\n",
       "</table>\n",
       "</div>"
      ],
      "text/plain": [
       "      P_Football_Performance  SMAn2\n",
       "2022                   0.364  17198"
      ]
     },
     "execution_count": 18,
     "metadata": {},
     "output_type": "execute_result"
    }
   ],
   "source": [
    "# predicting new data\n",
    "new_data = pd.DataFrame({'P_Football_Performance':0.364, 'SMAn2': 17198}, index=[2022])\n",
    "new_data"
   ]
  },
  {
   "cell_type": "code",
   "execution_count": 19,
   "metadata": {},
   "outputs": [
    {
     "data": {
      "text/plain": [
       "array([16726.78787061])"
      ]
     },
     "execution_count": 19,
     "metadata": {},
     "output_type": "execute_result"
    }
   ],
   "source": [
    "linear_regression.predict(new_data)"
   ]
  },
  {
   "cell_type": "markdown",
   "metadata": {},
   "source": [
    "#### Multi Layer Perceptron(MLP)"
   ]
  },
  {
   "cell_type": "code",
   "execution_count": 20,
   "metadata": {},
   "outputs": [],
   "source": [
    "from sklearn.neural_network import MLPRegressor"
   ]
  },
  {
   "cell_type": "code",
   "execution_count": 28,
   "metadata": {},
   "outputs": [
    {
     "name": "stderr",
     "output_type": "stream",
     "text": [
      "/home/aifi/anaconda3/lib/python2.7/site-packages/sklearn/neural_network/multilayer_perceptron.py:562: ConvergenceWarning: Stochastic Optimizer: Maximum iterations (10000) reached and the optimization hasn't converged yet.\n",
      "  % self.max_iter, ConvergenceWarning)\n"
     ]
    },
    {
     "data": {
      "text/plain": [
       "array([18813.90478452])"
      ]
     },
     "execution_count": 28,
     "metadata": {},
     "output_type": "execute_result"
    }
   ],
   "source": [
    "X = ['P_Football_Performance', 'SMAn2']\n",
    "Y = 'N_Applications'\n",
    "\n",
    "data_X = msu_df[X]\n",
    "data_y = msu_df[Y]\n",
    "\n",
    "mlp = MLPRegressor(hidden_layer_sizes=6, max_iter=10000)\n",
    "mlp.fit(data_X, data_y)\n",
    "mlp.predict(new_data)"
   ]
  },
  {
   "cell_type": "code",
   "execution_count": null,
   "metadata": {},
   "outputs": [],
   "source": []
  }
 ],
 "metadata": {
  "kernelspec": {
   "display_name": "Python 3",
   "language": "python",
   "name": "python3"
  },
  "language_info": {
   "codemirror_mode": {
    "name": "ipython",
    "version": 2
   },
   "file_extension": ".py",
   "mimetype": "text/x-python",
   "name": "python",
   "nbconvert_exporter": "python",
   "pygments_lexer": "ipython2",
   "version": "2.7.17"
  }
 },
 "nbformat": 4,
 "nbformat_minor": 2
}
